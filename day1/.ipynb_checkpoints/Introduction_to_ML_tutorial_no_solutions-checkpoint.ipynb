{
 "cells": [
  {
   "cell_type": "markdown",
   "id": "75dba511",
   "metadata": {},
   "source": [
    "# Tutorial for Introduction to ML Lecture\n",
    "\n",
    "version 0.1, September 2023\n",
    "\n",
    "Bryan Scott, CIERA/Northwestern"
   ]
  },
  {
   "cell_type": "markdown",
   "id": "c73c6b0f",
   "metadata": {},
   "source": [
    "## Problem 1: Bayes Classifiers"
   ]
  },
  {
   "cell_type": "markdown",
   "id": "07842041",
   "metadata": {},
   "source": [
    "A good starting point for Machine Learning is the Bayes classifier. The basic idea is to assign the most probable label to each data point using Bayes theorem, we take:\n",
    "\n",
    "$$\n",
    "p(y | x_n) \\propto p(y)p(x_i, ..., x_n | y)\n",
    "$$\n",
    "\n",
    "where y is a label for a data point and the $x_n$ are the features of the data that we want to use to classify each data point. A $\\textit{Naive} Bayes$ classifier makes an important simplifying assumptions that gives it the name - it assumes that the conditional probabilities are independent, $p(x_i, ..., x_n | y) = p(x_i|y)... p(x_n | y)$. That is, the probability of observing any individual feature doesn't depend on any of the other features. Our task is to construct this classifier from a set of examples we've observed previously and compare it to new data. "
   ]
  },
  {
   "cell_type": "markdown",
   "id": "40084db8",
   "metadata": {},
   "source": [
    "### Part 0: Load and split the data"
   ]
  },
  {
   "cell_type": "code",
   "execution_count": 1,
   "id": "5a1d0a57",
   "metadata": {},
   "outputs": [],
   "source": [
    "import pandas as pd\n",
    "import numpy as np\n",
    "from scipy.stats import norm\n",
    "import matplotlib.pyplot as plt"
   ]
  },
  {
   "cell_type": "code",
   "execution_count": 2,
   "id": "e543f3b7",
   "metadata": {},
   "outputs": [],
   "source": [
    "# lsst_data[0:1000].to_csv('session_19_DC2_subset.csv')"
   ]
  },
  {
   "cell_type": "markdown",
   "id": "3c682ccc",
   "metadata": {},
   "source": [
    "### Loading and splitting the data. \n",
    "\n",
    "Read in the data, then start by selecting the id, fluxes, and object truth type in the lsst data file you've been provided. \n",
    "\n",
    "Once you have selected those, randomly split the data into two arrays, one containing 80% of the data, and a second array containing 20% of the data. "
   ]
  },
  {
   "cell_type": "code",
   "execution_count": 33,
   "id": "94094b3b",
   "metadata": {},
   "outputs": [
    {
     "name": "stdout",
     "output_type": "stream",
     "text": [
      "[1 2 3]\n",
      "655\n",
      "143\n",
      "798\n",
      "798\n"
     ]
    }
   ],
   "source": [
    "from sklearn.model_selection import train_test_split\n",
    "\n",
    "cols = [\n",
    "    'id',\n",
    "    'flux_g',\n",
    "    'flux_i',\n",
    "    'flux_r',\n",
    "    'flux_u',\n",
    "    'flux_y',\n",
    "    'flux_z',\n",
    "    'truth_type'\n",
    "]\n",
    "\n",
    "lsst_data = pd.read_csv('./simulated_extragalactic_data.csv', usecols=cols) #path to your data\n",
    "unique_values = lsst_data['truth_type'].unique()\n",
    "print(unique_values)\n",
    "\n",
    "lsst_data_filtered = lsst_data[lsst_data['truth_type'] != 3]\n",
    "\n",
    "# Split the DataFrame into 80% training and 20% testing\n",
    "train_df, test_df = train_test_split(lsst_data_filtered, test_size=0.2, random_state=36)\n",
    "\n",
    "print(len(train_df[train_df['truth_type'] == 1]))\n",
    "print(len(train_df[train_df['truth_type'] == 2]))\n",
    "print(len(train_df[train_df['truth_type'] == 1]) + len(train_df[train_df['truth_type'] == 2]))\n",
    "print(len(train_df))\n",
    "\n"
   ]
  },
  {
   "cell_type": "markdown",
   "id": "99f2de21",
   "metadata": {},
   "source": [
    "### Part 1: Estimate Class Frequency in the training set\n",
    "\n",
    "One of the ingredients in our classifier is p(y), the unconditional class probabilities. \n",
    "\n",
    "We can get this by counting the number of rows belonging to each class in train_data and dividing by the length of the training data set. "
   ]
  },
  {
   "cell_type": "code",
   "execution_count": 34,
   "id": "0186b8f1",
   "metadata": {},
   "outputs": [
    {
     "data": {
      "text/plain": [
       "[0.8208020050125313, 0.17919799498746866]"
      ]
     },
     "execution_count": 34,
     "metadata": {},
     "output_type": "execute_result"
    }
   ],
   "source": [
    "def estimate_class_probabilities(x_train):\n",
    "    \"\"\"\n",
    "    Computes unconditional class probabilities. \n",
    "     \n",
    "    Args:\n",
    "        x_train (array): training data for the classifier\n",
    " \n",
    "    Returns:\n",
    "        ints p1, p2: unconditional probability of an element of the training set belonging to class 1\n",
    "    \"\"\"\n",
    "    unique_values = x_train['truth_type'].unique()\n",
    "    \n",
    "    ps = []\n",
    "    for val in unique_values:\n",
    "        p = len(x_train[x_train['truth_type'] == val]) / len(x_train)\n",
    "        ps.append(p)\n",
    "        \n",
    "    return ps\n",
    "\n",
    "\n",
    "\n",
    "estimate_class_probabilities(train_df)\n",
    "\n"
   ]
  },
  {
   "cell_type": "markdown",
   "id": "ca1aa268",
   "metadata": {},
   "source": [
    "### Part 2:  Feature Likelihoods\n",
    "\n",
    "We are assuming that the relationship between the classes and feature probabilities are related via:\n",
    "\n",
    "$p(x_i, ..., x_n | y) =  p(x_i|y)... p(x_n | y)$\n",
    "\n",
    "however, we still need to make an assumption about the functional form of the $p(x_i | y)$. As a simple case, we will assume $p(x_i | y)$ follows a Gaussian distribution given by:\n",
    "\n",
    "$$\n",
    "p(x_i | y) = \\frac{1}{\\sqrt{2 \\pi \\sigma_y}} \\exp{\\left(-\\frac{(x_i - \\mu)^2}{\\sigma_y^2}\\right)}\n",
    "$$\n",
    "\n",
    "and we will make a maximum likelihood estimate of $\\mu$ and $\\sigma_y$ from the data. This means using empirical estimates $\\bar{x}$ and $\\hat{\\sigma}$ as estimators of the true parameters $\\mu$ and $\\sigma_y$. \n",
    "\n",
    "Write a fitting function that takes the log of the fluxes and returns an estimate of the parameters of the per-feature likelihoods for each class."
   ]
  },
  {
   "cell_type": "code",
   "execution_count": 38,
   "id": "609b65b7",
   "metadata": {},
   "outputs": [],
   "source": [
    "def per_feature_likelihood_parameters(x_train, label, flux_band):\n",
    "    \"\"\"\"\n",
    "    Computes MAP estimates for the class conditional likelihood. \n",
    "     \n",
    "    Args:\n",
    "        x_train (array or pd series): training data for the classifier\n",
    "        label (df): training labels for the classifier \n",
    "        flux_band (str): which flux band\n",
    " \n",
    "    Returns:\n",
    "        means, stdevs (array): MAP estimates of the Gaussian conditional probability distributions for a specific class\n",
    "    \"\"\"\n",
    "    \n",
    "    means = []\n",
    "    stdevs = []\n",
    "    \n",
    "    #for flux in ['flux_g','flux_i','flux_r','flux_u','flux_y','flux_z',]:\n",
    "    log_flux = np.log(x_train[flux_band])\n",
    "\n",
    "    means = [np.mean(log_flux[label==1]), np.mean(log_flux[label==2])]\n",
    "    stdevs = [np.std(log_flux[label==1]), np.std(log_flux[label==2])]\n",
    "\n",
    "\n",
    "    return means, stdevs\n"
   ]
  },
  {
   "cell_type": "code",
   "execution_count": 42,
   "id": "78cff0dc",
   "metadata": {},
   "outputs": [
    {
     "data": {
      "text/plain": [
       "([2.7108576412688565, 5.111269509911686],\n",
       " [1.3672672221282172, 3.9719110841555776])"
      ]
     },
     "execution_count": 42,
     "metadata": {},
     "output_type": "execute_result"
    }
   ],
   "source": [
    "per_feature_likelihood_parameters(train_df, train_df['truth_type'], 'flux_u')\n",
    "\n"
   ]
  },
  {
   "cell_type": "markdown",
   "id": "16dbeb61",
   "metadata": {},
   "source": [
    "### Part 3: MAP Estimates of the Class Probabilities\n",
    "\n",
    "Now that we have the unconditional class probabilities and the parameters of the per feature likelihoods in hand, we can put this all together to build the classifier. Use the methods you have already written to write a function that takes in the training data and returns fit parameters. Once you have done that, write a method that takes the fit parameters as an argument and predicts the class of new (and unseen) data. "
   ]
  },
  {
   "cell_type": "code",
   "execution_count": 63,
   "id": "05a17f4d",
   "metadata": {},
   "outputs": [],
   "source": [
    "# build the classifier\n",
    "\n",
    "# solved \n",
    "\n",
    "def fit(x_train, flux_band):\n",
    "    \"\"\"\"\n",
    "    Convenience function to perform fitting on the training data\n",
    "     \n",
    "    Args:\n",
    "        x_train (array or pd series): training data for the classifier\n",
    "        flux_band (str): which flux band\n",
    "\n",
    "    Returns:\n",
    "        p1, p2, class_1_mean, class_2_mean, class_1_std, class_2_std: see documentation for per_feature_likelihood_parameters\n",
    "    \"\"\"\n",
    "    p1, p2 = estimate_class_probabilities(x_train)\n",
    "    means, stdevs = per_feature_likelihood_parameters(x_train, x_train['truth_type'], flux_band)\n",
    "    class_1_mean, class_2_mean = means[0], means[1]\n",
    "    class_1_std, class_2_std = stdevs[0], stdevs[1]\n",
    "    \n",
    "    return p1, p2, class_1_mean, class_2_mean, class_1_std, class_2_std\n"
   ]
  },
  {
   "cell_type": "code",
   "execution_count": 64,
   "id": "9ac1d1bc",
   "metadata": {},
   "outputs": [
    {
     "data": {
      "text/plain": [
       "(0.8208020050125313,\n",
       " 0.17919799498746866,\n",
       " 2.7108576412688565,\n",
       " 5.111269509911686,\n",
       " 1.3672672221282172,\n",
       " 3.9719110841555776)"
      ]
     },
     "execution_count": 64,
     "metadata": {},
     "output_type": "execute_result"
    }
   ],
   "source": [
    "fit(train_df, 'flux_u')"
   ]
  },
  {
   "cell_type": "code",
   "execution_count": 69,
   "id": "01867cba",
   "metadata": {},
   "outputs": [],
   "source": [
    "def predict(x_test, class_probability, class_means, class_dev):\n",
    "    \"\"\"\"\n",
    "    Predict method\n",
    "     \n",
    "    Args:\n",
    "        x_test (array): data to perform classification on\n",
    "        class_probability (array): unconditional class probabilities\n",
    "        class_means, class_dev (arrays): MAP estimates produced by the fit method\n",
    " \n",
    "    Returns:\n",
    "        predict_List (list): class membership predictions\n",
    "    \"\"\"\n",
    "    \n",
    "    # compute probabilities of an element of the test set belonging to class 1 or 2\n",
    "    \n",
    "    predict_list = []\n",
    "    for ii in range(0, 2):\n",
    "        p = class_probability[ii]\n",
    "        mean = class_means[ii]\n",
    "        stdev = class_dev[ii]\n",
    "\n",
    "        \n",
    "        gaussian_prob = 1/(np.sqrt(2*np.pi*stdev)) * np.exp(-(x_test - mean)**2./stdev**2.)\n",
    "        predict_list.append(gaussian_prob)\n",
    "    \n",
    "    \n",
    "    return predict_list\n",
    "\n"
   ]
  },
  {
   "cell_type": "code",
   "execution_count": 70,
   "id": "ff109ae2",
   "metadata": {},
   "outputs": [
    {
     "name": "stdout",
     "output_type": "stream",
     "text": [
      "[array([0.00000000e+000, 1.85553081e-083, 9.72195964e-016, 0.00000000e+000,\n",
      "       3.37929221e-001, 1.88289655e-036, 6.53570765e-038, 2.01487834e-006,\n",
      "       5.90664334e-003, 1.14430218e-240, 0.00000000e+000, 2.02156374e-021,\n",
      "       0.00000000e+000, 4.06316802e-314, 1.46448647e-010, 1.30880800e-001,\n",
      "       7.76918640e-161, 3.45306136e-100, 3.91792083e-049, 3.16661511e-013,\n",
      "       2.82928828e-008, 1.86256144e-003, 1.67510080e-010, 0.00000000e+000,\n",
      "       0.00000000e+000, 0.00000000e+000, 0.00000000e+000, 1.44830191e-029,\n",
      "       0.00000000e+000, 1.78793141e-001, 0.00000000e+000, 4.48224468e-027,\n",
      "       0.00000000e+000, 0.00000000e+000, 0.00000000e+000, 2.90764772e-001,\n",
      "       1.08891883e-002, 0.00000000e+000, 2.58780458e-001, 2.26470860e-001,\n",
      "       2.85876242e-037, 1.31880159e-024, 1.41609273e-005, 0.00000000e+000,\n",
      "       1.95252896e-003, 1.21427314e-004, 1.06871331e-006, 1.32553971e-012,\n",
      "       0.00000000e+000, 0.00000000e+000, 1.43217664e-001, 1.99982310e-076,\n",
      "       6.22060481e-129, 1.24137855e-026, 2.10306901e-005, 0.00000000e+000,\n",
      "       2.69987775e-001, 3.43684264e-030, 3.15928746e-001, 1.33050311e-020,\n",
      "       3.40236415e-001, 1.34860785e-019, 8.53863009e-005, 0.00000000e+000,\n",
      "       1.61099843e-001, 3.22021113e-001, 7.63174044e-004, 2.19336972e-156,\n",
      "       3.01062273e-003, 4.26569926e-063, 1.34865643e-002, 3.47532066e-111,\n",
      "       2.35867756e-073, 0.00000000e+000, 2.88795973e-001, 0.00000000e+000,\n",
      "       2.96291038e-073, 2.43478831e-276, 1.75199350e-004, 3.37727212e-001,\n",
      "       3.39987829e-001, 9.63970705e-198, 0.00000000e+000, 2.23290462e-020,\n",
      "       3.74645458e-037, 2.17419608e-180, 0.00000000e+000, 2.59192531e-209,\n",
      "       1.13470367e-001, 1.56637108e-008, 1.25849112e-008, 0.00000000e+000,\n",
      "       0.00000000e+000, 0.00000000e+000, 0.00000000e+000, 0.00000000e+000,\n",
      "       5.72809079e-023, 0.00000000e+000, 6.49071197e-014, 4.04253311e-002,\n",
      "       2.37626939e-040, 0.00000000e+000, 1.11053139e-007, 1.92744529e-016,\n",
      "       0.00000000e+000, 3.66962558e-045, 4.59783558e-017, 4.48641734e-022,\n",
      "       3.32615165e-001, 0.00000000e+000, 1.15104531e-012, 8.68659236e-002,\n",
      "       0.00000000e+000, 0.00000000e+000, 7.44858244e-005, 4.55564476e-002,\n",
      "       1.75224175e-014, 1.22954484e-011, 2.05257307e-003, 6.53712033e-014,\n",
      "       1.65932472e-125, 3.27813093e-001, 1.40563086e-006, 1.18368556e-088,\n",
      "       1.34396829e-001, 0.00000000e+000, 2.34884094e-030, 3.09290301e-007,\n",
      "       5.67111493e-190, 2.95620123e-144, 4.63516798e-211, 0.00000000e+000,\n",
      "       8.15776572e-017, 0.00000000e+000, 0.00000000e+000, 0.00000000e+000,\n",
      "       0.00000000e+000, 0.00000000e+000, 6.01679758e-079, 1.86469155e-122,\n",
      "       0.00000000e+000, 0.00000000e+000, 0.00000000e+000, 8.13084219e-005,\n",
      "       2.65926999e-001, 1.29735752e-055, 0.00000000e+000, 2.22662216e-065,\n",
      "       4.71581422e-004, 3.48819019e-020, 4.88002135e-026, 0.00000000e+000,\n",
      "       0.00000000e+000, 1.13100513e-002, 4.32043570e-151, 0.00000000e+000,\n",
      "       4.07405500e-007, 1.60799380e-002, 1.21710734e-029, 1.70166729e-001,\n",
      "       9.33574810e-065, 1.55982883e-001, 0.00000000e+000, 0.00000000e+000,\n",
      "       3.84328452e-276, 0.00000000e+000, 0.00000000e+000, 6.75573582e-002,\n",
      "       0.00000000e+000, 8.50819303e-004, 2.03561327e-008, 2.02793080e-001,\n",
      "       0.00000000e+000, 3.85369730e-002, 0.00000000e+000, 3.39901091e-272,\n",
      "       7.77226513e-040, 1.15344128e-007, 2.44025210e-210, 5.26303200e-104,\n",
      "       6.01999849e-003, 1.80903410e-019, 1.54604078e-016, 2.47420415e-001,\n",
      "       1.96549013e-001, 4.72193207e-002, 2.06181705e-002, 0.00000000e+000,\n",
      "       2.20858876e-007, 7.72248687e-039, 0.00000000e+000, 5.65312808e-017,\n",
      "       5.59555561e-097, 0.00000000e+000, 5.75381099e-002, 6.98797090e-004,\n",
      "       4.80596328e-011, 5.81181057e-111, 0.00000000e+000, 3.84178719e-185]), array([0.00000000e+000, 7.61450663e-009, 2.91716002e-002, 0.00000000e+000,\n",
      "       1.33234889e-001, 3.91689742e-004, 2.84019993e-004, 1.41315802e-001,\n",
      "       1.98597579e-001, 1.02080946e-025, 0.00000000e+000, 9.53033068e-003,\n",
      "       0.00000000e+000, 8.17774434e-034, 7.44733068e-002, 1.86362106e-001,\n",
      "       4.89859659e-017, 1.38148559e-010, 2.29376705e-005, 4.65708100e-002,\n",
      "       1.07977620e-001, 1.93694290e-001, 7.52137965e-002, 4.34590074e-188,\n",
      "       0.00000000e+000, 9.27744633e-052, 0.00000000e+000, 1.74300354e-003,\n",
      "       2.12864302e-269, 1.79800809e-001, 0.00000000e+000, 2.95701519e-003,\n",
      "       0.00000000e+000, 7.27095103e-121, 0.00000000e+000, 1.15426733e-001,\n",
      "       1.99936510e-001, 1.07687840e-055, 1.67328528e-001, 1.01397524e-001,\n",
      "       3.27135686e-004, 4.95667852e-003, 1.57588447e-001, 0.00000000e+000,\n",
      "       1.93942534e-001, 1.75118923e-001, 1.36099779e-001, 5.21066737e-002,\n",
      "       0.00000000e+000, 0.00000000e+000, 8.50675922e-002, 4.03924383e-008,\n",
      "       1.27376571e-013, 3.24566717e-003, 1.60885104e-001, 1.49498322e-046,\n",
      "       1.65258265e-001, 1.52498153e-003, 1.22666693e-001, 1.12428019e-002,\n",
      "       1.35875013e-001, 1.37514582e-002, 1.72337217e-001, 0.00000000e+000,\n",
      "       1.82265119e-001, 1.52495365e-001, 1.88417393e-001, 1.47514967e-016,\n",
      "       1.96048261e-001, 9.22151610e-007, 2.00133792e-001, 9.65500626e-012,\n",
      "       8.34117091e-008, 5.08572480e-094, 1.61431131e-001, 0.00000000e+000,\n",
      "       8.53817422e-008, 1.22172056e-029, 1.77953535e-001, 1.44707547e-001,\n",
      "       1.35494127e-001, 4.97092489e-021, 0.00000000e+000, 1.17625486e-002,\n",
      "       3.35707972e-004, 3.79425434e-019, 2.88106462e-049, 2.73466031e-022,\n",
      "       7.88032714e-002, 1.03756995e-001, 1.02223244e-001, 0.00000000e+000,\n",
      "       9.90321504e-059, 0.00000000e+000, 0.00000000e+000, 0.00000000e+000,\n",
      "       6.95058919e-003, 1.24923872e-100, 4.10561082e-002, 5.87651503e-002,\n",
      "       1.65421551e-004, 1.61635883e-072, 1.18151306e-001, 2.55063850e-002,\n",
      "       0.00000000e+000, 5.63414703e-005, 2.26218208e-002, 8.34463200e-003,\n",
      "       1.29619518e-001, 6.32312038e-049, 5.15363970e-002, 1.92193476e-001,\n",
      "       6.04525810e-065, 0.00000000e+000, 1.71245010e-001, 1.97504683e-001,\n",
      "       3.69496302e-002, 6.18573412e-002, 1.94201657e-001, 4.10795314e-002,\n",
      "       2.94598420e-013, 1.27235873e-001, 1.38346179e-001, 2.20469640e-009,\n",
      "       8.32601403e-002, 0.00000000e+000, 1.47190233e-003, 1.26119200e-001,\n",
      "       3.47030325e-020, 2.95091622e-015, 1.76358270e-022, 4.51186791e-273,\n",
      "       2.37373269e-002, 0.00000000e+000, 0.00000000e+000, 0.00000000e+000,\n",
      "       0.00000000e+000, 0.00000000e+000, 2.22343171e-008, 6.20842849e-013,\n",
      "       1.09635776e-120, 2.27415198e-085, 1.31042834e-216, 1.71946664e-001,\n",
      "       1.66023368e-001, 5.21113588e-006, 3.15320492e-262, 5.41703189e-007,\n",
      "       1.85190710e-001, 1.22286495e-002, 3.67702743e-003, 3.18168316e-175,\n",
      "       0.00000000e+000, 4.30478556e-002, 5.46307764e-016, 1.99194066e-259,\n",
      "       1.28307932e-001, 2.00173767e-001, 1.71510579e-003, 1.81009909e-001,\n",
      "       6.26394016e-007, 8.76298359e-002, 0.00000000e+000, 0.00000000e+000,\n",
      "       1.28476626e-029, 0.00000000e+000, 0.00000000e+000, 1.94716050e-001,\n",
      "       0.00000000e+000, 1.89113180e-001, 1.05613738e-001, 1.76339726e-001,\n",
      "       0.00000000e+000, 1.98338914e-001, 4.47787864e-165, 3.49736879e-029,\n",
      "       1.85465841e-004, 1.18441186e-001, 2.11369983e-022, 5.49723408e-011,\n",
      "       1.98654525e-001, 1.41052444e-002, 2.50413862e-002, 1.05639295e-001,\n",
      "       1.77256066e-001, 1.97301053e-001, 2.00021773e-001, 1.06458520e-076,\n",
      "       1.23469266e-001, 2.31362803e-004, 9.54955630e-076, 2.30180427e-002,\n",
      "       2.99287390e-010, 0.00000000e+000, 6.45817655e-002, 1.87843990e-001,\n",
      "       6.85587143e-002, 1.01928160e-011, 0.00000000e+000, 1.15956451e-019])]\n"
     ]
    }
   ],
   "source": [
    "fits = fit(train_df, 'flux_u')\n",
    "print(predict(np.array(test_df['flux_u']), fits[0:2],  fits[2:4], fits[4:6]))"
   ]
  },
  {
   "cell_type": "markdown",
   "id": "8067d9e3",
   "metadata": {},
   "source": [
    "### Part 4: Metrics\n",
    "\n",
    "After creating a classifier, you now want to evaluate it in terms of how often it correctly and incorrectly classifies the objects in your training set. To do this, we'll design a confusion matrix. A confusion matrix is a matrix whose entries are the counts of the predicted vs actual class. For example, the first entry is the count of objects that are predicted to be of class 1 and actually are of class 1 and so on, while the off-diagonal elements would be instances of class 1 that are predicted to be of class 2, and instances of class 2 that are predicted to be of class 1. "
   ]
  },
  {
   "cell_type": "code",
   "execution_count": 37,
   "id": "a366c561",
   "metadata": {},
   "outputs": [],
   "source": [
    "def plot_confusion_matrix(df_confusion, cmap=):\n",
    "    \"\"\"\n",
    "    \n",
    "    Convenience function to plot the confusion matrix from a pd.crosstab object. Hint: use plt.matshow and choose a sensible color map.\n",
    "    \n",
    "    Args:\n",
    "        df_confusion (pd.crosstab): A pd.crosstab object.\n",
    "        \n",
    "    Returns:\n",
    "        null \n",
    "    \"\"\"\n",
    "    \n",
    "    \n",
    "    plt.matshow()\n"
   ]
  },
  {
   "cell_type": "markdown",
   "id": "cb4c8763",
   "metadata": {},
   "source": [
    "## Problem 2: The Cramer-Rao bound (pen & paper, challenging, optional)\n",
    "\n",
    "As we saw in the lecture, the Cramer-Rao bound is an important result in statistics that has intuitive consequences for many applied problems in ML. The proof of the Cramer-Rao bound can be insightful to work through. \n",
    "\n",
    "The starting point for the proof of the bound is the Cauchy-Schwarz inequality, which can be used to show that:\n",
    "\n",
    "$$\n",
    "[Cov(U, V)]^2 \\le Var(U)Var(V)\n",
    "$$\n",
    "\n",
    "Starting from the definitions that U = T(X), where T(X) is an estimator of some parameter $\\theta$ of the distribution $f(X|\\theta)$ from which the data is sampled, and V = $\\frac{\\partial}{\\partial \\theta} log f(X |\\theta)$. Use the Cauchy-Schwarz inequality to show the Cramer-Rao bound for these choices of U and V. \n",
    "\n",
    "$\\textit{Hint:}$ you will need the fact that the $\\mathbb{E}(V) = 0$, where $\\mathbb{E}$ is the expectation of a random variable."
   ]
  },
  {
   "cell_type": "code",
   "execution_count": null,
   "id": "e1432f12",
   "metadata": {},
   "outputs": [],
   "source": []
  }
 ],
 "metadata": {
  "kernelspec": {
   "display_name": "Python 3 (ipykernel)",
   "language": "python",
   "name": "python3"
  },
  "language_info": {
   "codemirror_mode": {
    "name": "ipython",
    "version": 3
   },
   "file_extension": ".py",
   "mimetype": "text/x-python",
   "name": "python",
   "nbconvert_exporter": "python",
   "pygments_lexer": "ipython3",
   "version": "3.8.17"
  }
 },
 "nbformat": 4,
 "nbformat_minor": 5
}
